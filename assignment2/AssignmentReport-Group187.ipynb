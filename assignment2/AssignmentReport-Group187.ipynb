{
 "cells": [
  {
   "cell_type": "markdown",
   "metadata": {},
   "source": [
    "# Assignment 1 Report"
   ]
  },
  {
   "cell_type": "markdown",
   "metadata": {},
   "source": [
    "This is an outline for your report to ease the amount of work required to create your report. Jupyter notebook supports markdown, and I recommend you to check out this [cheat sheet](https://github.com/adam-p/markdown-here/wiki/Markdown-Cheatsheet). If you are not familiar with markdown.\n",
    "\n",
    "Before delivery, **remember to convert this file to PDF**. You can do it in two ways:\n",
    "1. Print the webpage (ctrl+P or cmd+P)\n",
    "2. Export with latex. This is somewhat more difficult, but you'll get somehwat of a \"prettier\" PDF. Go to File -> Download as -> PDF via LaTeX. You might have to install nbconvert and pandoc through conda; `conda install nbconvert pandoc`."
   ]
  },
  {
   "cell_type": "markdown",
   "metadata": {},
   "source": [
    "# Task 1"
   ]
  },
  {
   "cell_type": "markdown",
   "metadata": {},
   "source": [
    "## task 1a)\n",
    "\n",
    "Fill in task 1a image of hand-written notes which are easy to read, or latex equations here\n",
    "\n",
    "![](task1a.jpg)"
   ]
  },
  {
   "cell_type": "markdown",
   "metadata": {},
   "source": [
    "## task 1b)\n",
    "\n",
    "![](task1b.jpg)"
   ]
  },
  {
   "cell_type": "markdown",
   "metadata": {},
   "source": [
    "# Task 2"
   ]
  },
  {
   "cell_type": "markdown",
   "metadata": {},
   "source": [
    "# Task 2a)\n",
    "### mean: 33.55, std: 78.88 (rounded values)"
   ]
  },
  {
   "cell_type": "markdown",
   "metadata": {},
   "source": [
    "## Task 2c)\n",
    "![](task2c_train_loss.png)"
   ]
  },
  {
   "cell_type": "markdown",
   "metadata": {},
   "source": [
    "## Task 2d)\n",
    "Total number of parameters (weights + biases) = 784 \\* 64 + 64 + 64 \\* 10 = 50880"
   ]
  },
  {
   "cell_type": "markdown",
   "metadata": {},
   "source": [
    "# Task 3"
   ]
  },
  {
   "cell_type": "markdown",
   "metadata": {},
   "source": [
    "![](task3_train_loss.png)\n",
    "Each addition led to faster convergence speed and also generally a lower loss value. The only addition that stood out in an opposite way was momentum: it improved the convergence speed and loss, albeit on the cost of accuracy. On three models the accuracy is pretty high, this could indicate overfitting and hence lower generalization performance."
   ]
  },
  {
   "cell_type": "markdown",
   "metadata": {},
   "source": [
    "# Task 4"
   ]
  },
  {
   "cell_type": "markdown",
   "metadata": {},
   "source": [
    "## Task 4a)\n",
    "\n",
    "Setting the number of hidden units to 32 leads to a lower accuracy, slower convergence speed and a higher loss value."
   ]
  },
  {
   "cell_type": "markdown",
   "metadata": {},
   "source": [
    "## Task 4b)\n",
    "Setting the number of hidden units to 128 on the other hand leads to a very high accuracy, which could even intigate overfitting. However, it improves the loss value at the start of the training, but then performs worse than the baseline with 64 hidden units.\n",
    "![](task4_ab_32_128_neurons.png)\n",
    "\n"
   ]
  },
  {
   "cell_type": "markdown",
   "metadata": {},
   "source": [
    "## Task 4d\n",
    "Task 3 model:\n",
    "\n",
    "- Inputs: 785 neurons (including bias)\n",
    "\n",
    "- Hidden layer 1: 64 neurons\n",
    "\n",
    "- Output layer: 10 neurons\n",
    "\n",
    "- total number of parameters: 785 * 64 (number of connections from input to hidden layer, including bias) + 64*10 (number of connections from hidden layer to output layer)\n",
    "= **50880**\n",
    "\n",
    "\n",
    "New model used:\n",
    "\n",
    "- Inputs: 785 neurons\n",
    "\n",
    "- Hidden layer 1: 59 neurons\n",
    "\n",
    "- Hidden layer 2: 59 neurons\n",
    "\n",
    "- Output layer: 10 neurons\n",
    "\n",
    "- total number of parameters: 785 * 59 (number of connections from input to hidden layer 1, including bias) + 59 * 59 (number of connections from hidden layer 1 to hidden layer 2) + 59*10 (number of connections from hidden layer to output layer)\n",
    "= **50386**\n",
    "\n",
    "![](task4e_64_59_10-64neurons.png)\n",
    "The network with more layers has a similar convergence speed as the baseline from task 3. However, it has a better accuracy.\n"
   ]
  },
  {
   "cell_type": "markdown",
   "metadata": {},
   "source": [
    "## Task 4e)\n",
    "The model has a worse convergence speed, loss and accuracy. This effect is called the problem of vanishing gradients, because the network has too many layers (\"is too deep\") the gradients get decrease over time and vanish which worsens the performance."
   ]
  }
 ],
 "metadata": {
  "kernelspec": {
   "display_name": "Python 3.8.1 64-bit ('py38': conda)",
   "language": "python",
   "name": "python38164bitpy38condac1f68ca5407a4349b0d7e37676f2fbb3"
  },
  "language_info": {
   "codemirror_mode": {
    "name": "ipython",
    "version": 3
   },
   "file_extension": ".py",
   "mimetype": "text/x-python",
   "name": "python",
   "nbconvert_exporter": "python",
   "pygments_lexer": "ipython3",
   "version": "3.8.1"
  }
 },
 "nbformat": 4,
 "nbformat_minor": 4
}
