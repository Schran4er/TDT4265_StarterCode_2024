{
 "cells": [
  {
   "cell_type": "markdown",
   "metadata": {},
   "source": [
    "# Assignment 1 Report"
   ]
  },
  {
   "cell_type": "markdown",
   "metadata": {},
   "source": [
    "This is an outline for your report to ease the amount of work required to create your report. Jupyter notebook supports markdown, and I recommend you to check out this [cheat sheet](https://github.com/adam-p/markdown-here/wiki/Markdown-Cheatsheet). If you are not familiar with markdown.\n",
    "\n",
    "Before delivery, **remember to convert this file to PDF**. You can do it in two ways:\n",
    "1. Print the webpage (ctrl+P or cmd+P)\n",
    "2. Export with latex. This is somewhat more difficult, but you'll get somehwat of a \"prettier\" PDF. Go to File -> Download as -> PDF via LaTeX. You might have to install nbconvert and pandoc through conda; `conda install nbconvert pandoc`."
   ]
  },
  {
   "cell_type": "markdown",
   "metadata": {},
   "source": [
    "# Task 1"
   ]
  },
  {
   "cell_type": "markdown",
   "metadata": {},
   "source": [
    "## task 1a)\n",
    "\n",
    "$$\n",
    "C^n(w)=-\\left(y^n \\ln \\left(\\hat{y}^n\\right)+\\left(1-y^n\\right) \\ln \\left(1-\\hat{y}^n\\right)\\right)\n",
    "$$\n",
    "\n",
    "Using that $y \\neq y(w_i)$:\n",
    "$$\n",
    "\\frac{\\partial C^n(w)}{\\partial w_i} = -y \\frac{\\partial \\ln \\hat{y}}{\\partial w_i} - (1-y) \\cdot \\frac{\\partial \\ln(1-\\hat{y})}{\\partial w_i}\n",
    "$$\n",
    "\n",
    "First term, using the chain-rule and the hint $\\frac{\\partial f\\left(x^n\\right)}{\\partial w_i}=x_i^n f\\left(x^n\\right)\\left(1-f\\left(x^n\\right)\\right)$: \n",
    "$$\n",
    "\\frac{\\partial \\ln \\hat{y}^n}{\\partial w_i} = \\frac{1}{\\hat{y}^n} \\cdot \\frac{\\partial \\hat{y}^n}{\\partial w_i} = \\frac{1}{\\hat{y}^n} \\cdot x_i^n \\cdot \\hat{y}^n \\cdot (1-\\hat{y}^n) = \\underline{\\underline{ x_i^n \\, (1-\\hat{y}^n) }}\n",
    "$$\n",
    "Second term, using the chain-rule and the hint $\\frac{\\partial f\\left(x^n\\right)}{\\partial w_i}=x_i^n f\\left(x^n\\right)\\left(1-f\\left(x^n\\right)\\right)$: \n",
    "$$\n",
    "\\frac{\\partial \\ln(1-\\hat{y}^n)}{\\partial w_i} = -\\frac{1}{1-\\hat{y}^n} \\cdot \\frac{\\partial (1-\\hat{y}^n)}{\\partial w_i} = -\\frac{1}{1-\\hat{y}^n} \\cdot x_i^n \\cdot (1-\\hat{y}^n) \\cdot (1-1+\\hat{y}^n) = \\underline{\\underline{ -x_i^n \\hat{y}^n }}\n",
    "$$\n",
    "\n",
    "\n",
    "Put together:\n",
    "$$\n",
    "\\frac{\\partial C^n}{\\partial w_i} = -y^n x_i^n (1-\\hat{y}^n) + (1-y^n) x_i^n \\hat{y}^n = x_i^n (-y^n + y^n\\hat{y}^n+\\hat{y}^n-y^n\\hat{y}^n) = x_i^n(\\hat{y}^n-y^n)= \\underline{\\underline{ -\\left(y^n-\\hat{y}^n\\right) x_i^n }} \\,\\,, \\quad q.e.d.\n",
    "$$"
   ]
  },
  {
   "cell_type": "markdown",
   "metadata": {},
   "source": [
    "<!-- ## task 1a)\n",
    "\n",
    "Fill in task 1a image of hand-written notes which are easy to read, or latex equations here -->"
   ]
  },
  {
   "cell_type": "markdown",
   "metadata": {},
   "source": [
    "# Task 2"
   ]
  },
  {
   "cell_type": "markdown",
   "metadata": {},
   "source": [
    "## Task 2b)\n",
    "![](task2b_binary_train_loss.png)"
   ]
  },
  {
   "cell_type": "markdown",
   "metadata": {},
   "source": [
    "## Task 2c)\n",
    "![](task2b_binary_train_accuracy.png)"
   ]
  },
  {
   "cell_type": "markdown",
   "metadata": {},
   "source": [
    "## Task 2d)\n",
    "FILL IN ANSWER"
   ]
  },
  {
   "cell_type": "markdown",
   "metadata": {},
   "source": [
    "## Task 2e)\n",
    "FILL IN ANSWER\n",
    "![](task2e_train_accuracy_shuffle_difference.png)"
   ]
  },
  {
   "cell_type": "markdown",
   "metadata": {},
   "source": [
    "# Task 3"
   ]
  },
  {
   "cell_type": "markdown",
   "metadata": {},
   "source": [
    "## Task 3b)\n",
    "![](task3b_softmax_train_loss.png)"
   ]
  },
  {
   "cell_type": "markdown",
   "metadata": {},
   "source": [
    "## Task 3c)\n",
    "![](task3b_softmax_train_accuracy.png)"
   ]
  },
  {
   "cell_type": "markdown",
   "metadata": {},
   "source": [
    "## Task 3d)\n",
    "FILL IN ANSWER"
   ]
  },
  {
   "cell_type": "markdown",
   "metadata": {},
   "source": [
    "# Task 4"
   ]
  },
  {
   "cell_type": "markdown",
   "metadata": {},
   "source": [
    "## Task 4a)\n",
    "\n",
    "Fill in image of hand-written notes which are easy to read, or latex equations here"
   ]
  },
  {
   "cell_type": "markdown",
   "metadata": {},
   "source": [
    "## Task 4b)\n",
    "FILL IN ANSWER\n",
    "\n",
    "![](task4b_softmax_weight.png)"
   ]
  },
  {
   "cell_type": "markdown",
   "metadata": {},
   "source": [
    "## Task 4c)\n",
    "FILL IN ANSWER\n",
    "\n",
    "![](task4c_l2_reg_accuracy.png)"
   ]
  },
  {
   "cell_type": "markdown",
   "metadata": {},
   "source": [
    "## Task 4d)\n",
    "![](task4d_l2_reg_norms.png)"
   ]
  },
  {
   "cell_type": "markdown",
   "metadata": {},
   "source": [
    "## Task 4e)\n",
    "FILL IN ANSWER"
   ]
  }
 ],
 "metadata": {
  "kernelspec": {
   "display_name": "tdt4265",
   "language": "python",
   "name": "python3"
  },
  "language_info": {
   "codemirror_mode": {
    "name": "ipython",
    "version": 3
   },
   "file_extension": ".py",
   "mimetype": "text/x-python",
   "name": "python",
   "nbconvert_exporter": "python",
   "pygments_lexer": "ipython3",
   "version": "3.10.13"
  }
 },
 "nbformat": 4,
 "nbformat_minor": 4
}
