{
 "cells": [
  {
   "cell_type": "code",
   "execution_count": 1,
   "metadata": {},
   "outputs": [],
   "source": [
    "from scipy.spatial.distance import directed_hausdorff\n",
    "\n",
    "import numpy as np\n",
    "import matplotlib.pyplot as plt\n",
    "import nibabel as nib\n",
    "import nrrd"
   ]
  },
  {
   "cell_type": "code",
   "execution_count": 6,
   "metadata": {},
   "outputs": [],
   "source": [
    "## evaluate man HD95 (hausdorff distance) and dice score\n",
    "\n",
    "def dice_coefficient(prediction, labels):\n",
    "    # measures the overlap between the predicted segmentation and the ground truth\n",
    "    intersection = np.sum(prediction * labels)\n",
    "    union = np.sum(prediction) + np.sum(labels)\n",
    "    dice = (2.0 * intersection) / (union + 1e-6)\n",
    "    return dice\n",
    "\n",
    "\n",
    "def hausdorff_metric(prediction, labels):\n",
    "    # quantifies the maximum discrepancy between the predicted segmentation and the ground truth\n",
    "    distances = []\n",
    "    for i in range(prediction.shape[2]):\n",
    "        d1 = directed_hausdorff(prediction[:, :, i], labels[:, :, i])[0]\n",
    "        d2 = directed_hausdorff(labels[:, :, i], prediction[:, :, i])[0]\n",
    "        distances.extend([d1, d2])\n",
    "    distances.sort()\n",
    "    percentile_95 = distances[int(0.95 * len(distances))]\n",
    "    return percentile_95"
   ]
  },
  {
   "cell_type": "code",
   "execution_count": 2,
   "metadata": {},
   "outputs": [],
   "source": [
    "# image, _ = nrrd.read(\"../../data/ASOCA/Normal/CTCA/Normal_17.nrrd\")\n",
    "\n",
    "truth_path = \"../../data_flat/Annotation_Normal_17.nrrd\"\n",
    "nrrd_data, nrrd_header = nrrd.read(truth_path)\n",
    "lbl = np.array(nrrd_data)\n",
    "\n",
    "prediction_path = \"../../project/model1_auto3dseg/segresnet_0/prediction_testing/CTCA_Normal_17.nii.gz\"\n",
    "prediction_nib = nib.load(prediction_path)\n",
    "pred = np.array(prediction_nib.dataobj)"
   ]
  },
  {
   "cell_type": "code",
   "execution_count": 8,
   "metadata": {},
   "outputs": [
    {
     "data": {
      "text/plain": [
       "0.4395590417257778"
      ]
     },
     "execution_count": 8,
     "metadata": {},
     "output_type": "execute_result"
    }
   ],
   "source": [
    "mean_dice = np.mean([dice_coefficient(pred[:, :, i], lbl[:, :, i]) for i in range(pred.shape[2])])\n",
    "mean_dice       # higher = better, best = 0.89 (ASOCA Challenge)"
   ]
  },
  {
   "cell_type": "code",
   "execution_count": 9,
   "metadata": {},
   "outputs": [
    {
     "data": {
      "text/plain": [
       "2.8284271247461903"
      ]
     },
     "execution_count": 9,
     "metadata": {},
     "output_type": "execute_result"
    }
   ],
   "source": [
    "hausdorff_95 = hausdorff_metric(pred, lbl)\n",
    "hausdorff_95    # lower = better, best = 1.89 (ASOCA Challenge)"
   ]
  },
  {
   "cell_type": "code",
   "execution_count": null,
   "metadata": {},
   "outputs": [],
   "source": []
  }
 ],
 "metadata": {
  "kernelspec": {
   "display_name": "pyflut",
   "language": "python",
   "name": "python3"
  },
  "language_info": {
   "codemirror_mode": {
    "name": "ipython",
    "version": 3
   },
   "file_extension": ".py",
   "mimetype": "text/x-python",
   "name": "python",
   "nbconvert_exporter": "python",
   "pygments_lexer": "ipython3",
   "version": "3.10.11"
  }
 },
 "nbformat": 4,
 "nbformat_minor": 2
}
