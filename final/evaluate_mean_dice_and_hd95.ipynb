{
 "cells": [
  {
   "cell_type": "code",
   "execution_count": 5,
   "metadata": {},
   "outputs": [],
   "source": [
    "from scipy.spatial.distance import directed_hausdorff\n",
    "\n",
    "import numpy as np\n",
    "import matplotlib.pyplot as plt\n",
    "import nibabel as nib\n",
    "import nrrd"
   ]
  },
  {
   "cell_type": "code",
   "execution_count": 6,
   "metadata": {},
   "outputs": [],
   "source": [
    "## evaluate man HD95 (hausdorff distance) and dice score\n",
    "\n",
    "def dice_coefficient(prediction, labels):\n",
    "    # measures the overlap between the predicted segmentation and the ground truth\n",
    "    intersection = np.sum(prediction * labels)\n",
    "    union = np.sum(prediction) + np.sum(labels)\n",
    "    dice = (2.0 * intersection) / (union + 1e-6)\n",
    "    return dice\n",
    "\n",
    "\n",
    "def hausdorff_metric(prediction, labels):\n",
    "    # quantifies the maximum discrepancy between the predicted segmentation and the ground truth\n",
    "    # using scipy library\n",
    "    distances = []\n",
    "    for i in range(prediction.shape[2]):\n",
    "        d1 = directed_hausdorff(prediction[:, :, i], labels[:, :, i])[0]\n",
    "        d2 = directed_hausdorff(labels[:, :, i], prediction[:, :, i])[0]\n",
    "        distances.extend([d1, d2])\n",
    "    distances.sort()\n",
    "    percentile_95 = distances[int(0.95 * len(distances))]\n",
    "    return percentile_95"
   ]
  },
  {
   "cell_type": "code",
   "execution_count": 7,
   "metadata": {},
   "outputs": [],
   "source": [
    "test_labels = [\n",
    "    \"/cluster/work/felixzr/TDT4265_StarterCode_2024/data_flat/Annotation_Normal_17.nrrd\",\n",
    "    \"/cluster/work/felixzr/TDT4265_StarterCode_2024/data_flat/Annotation_Normal_18.nrrd\",\n",
    "    \"/cluster/work/felixzr/TDT4265_StarterCode_2024/data_flat/Annotation_Normal_19.nrrd\",\n",
    "    \"/cluster/work/felixzr/TDT4265_StarterCode_2024/data_flat/Annotation_Normal_20.nrrd\",\n",
    "\n",
    "    \"/cluster/work/felixzr/TDT4265_StarterCode_2024/data_flat/Annotation_Diseased_17.nrrd\",\n",
    "    \"/cluster/work/felixzr/TDT4265_StarterCode_2024/data_flat/Annotation_Diseased_18.nrrd\",\n",
    "    \"/cluster/work/felixzr/TDT4265_StarterCode_2024/data_flat/Annotation_Diseased_19.nrrd\",\n",
    "    \"/cluster/work/felixzr/TDT4265_StarterCode_2024/data_flat/Annotation_Diseased_20.nrrd\",\n",
    "]\n",
    "\n",
    "\n",
    "# predictions_A = [\n",
    "#     \"/cluster/work/felixzr/TDT4265_StarterCode_2024/final/model/segresnet_0/prediction_testing/CTCA_Normal_17.nii.gz\",\n",
    "#     \"/cluster/work/felixzr/TDT4265_StarterCode_2024/final/model/segresnet_0/prediction_testing/CTCA_Normal_18.nii.gz\",\n",
    "#     \"/cluster/work/felixzr/TDT4265_StarterCode_2024/final/model/segresnet_0/prediction_testing/CTCA_Normal_19.nii.gz\",\n",
    "#     \"/cluster/work/felixzr/TDT4265_StarterCode_2024/final/model/segresnet_0/prediction_testing/CTCA_Normal_20.nii.gz\",\n",
    "\n",
    "#     \"/cluster/work/felixzr/TDT4265_StarterCode_2024/final/model/segresnet_0/prediction_testing/CTCA_Diseased_17.nii.gz\",\n",
    "#     \"/cluster/work/felixzr/TDT4265_StarterCode_2024/final/model/segresnet_0/prediction_testing/CTCA_Diseased_18.nii.gz\",\n",
    "#     \"/cluster/work/felixzr/TDT4265_StarterCode_2024/final/model/segresnet_0/prediction_testing/CTCA_Diseased_19.nii.gz\",\n",
    "#     \"/cluster/work/felixzr/TDT4265_StarterCode_2024/final/model/segresnet_0/prediction_testing/CTCA_Diseased_20.nii.gz\",\n",
    "# ]\n",
    "# predictions_A_wPretrain = [\n",
    "#     \"/cluster/work/felixzr/TDT4265_StarterCode_2024/final/model_wPretrain_continued/segresnet_0/prediction_testing/CTCA_Normal_17.nii.gz\",\n",
    "#     \"/cluster/work/felixzr/TDT4265_StarterCode_2024/final/model_wPretrain_continued/segresnet_0/prediction_testing/CTCA_Normal_18.nii.gz\",\n",
    "#     \"/cluster/work/felixzr/TDT4265_StarterCode_2024/final/model_wPretrain_continued/segresnet_0/prediction_testing/CTCA_Normal_19.nii.gz\",\n",
    "#     \"/cluster/work/felixzr/TDT4265_StarterCode_2024/final/model_wPretrain_continued/segresnet_0/prediction_testing/CTCA_Normal_20.nii.gz\",\n",
    "\n",
    "#     \"/cluster/work/felixzr/TDT4265_StarterCode_2024/final/model_wPretrain_continued/segresnet_0/prediction_testing/CTCA_Diseased_17.nii.gz\",\n",
    "#     \"/cluster/work/felixzr/TDT4265_StarterCode_2024/final/model_wPretrain_continued/segresnet_0/prediction_testing/CTCA_Diseased_18.nii.gz\",\n",
    "#     \"/cluster/work/felixzr/TDT4265_StarterCode_2024/final/model_wPretrain_continued/segresnet_0/prediction_testing/CTCA_Diseased_19.nii.gz\",\n",
    "#     \"/cluster/work/felixzr/TDT4265_StarterCode_2024/final/model_wPretrain_continued/segresnet_0/prediction_testing/CTCA_Diseased_20.nii.gz\",\n",
    "# ]\n",
    "\n",
    "predictions_B = [\n",
    "    \"/cluster/work/felixzr/TDT4265_StarterCode_2024/final_final/dints/prediction_testing/CTCA_Normal_17/CTCA_Normal_17.nii.gz\",\n",
    "    \"/cluster/work/felixzr/TDT4265_StarterCode_2024/final_final/dints/prediction_testing/CTCA_Normal_18/CTCA_Normal_18.nii.gz\",\n",
    "    \"/cluster/work/felixzr/TDT4265_StarterCode_2024/final_final/dints/prediction_testing/CTCA_Normal_19/CTCA_Normal_19.nii.gz\",\n",
    "    \"/cluster/work/felixzr/TDT4265_StarterCode_2024/final_final/dints/prediction_testing/CTCA_Normal_20/CTCA_Normal_20.nii.gz\",\n",
    "\n",
    "    \"/cluster/work/felixzr/TDT4265_StarterCode_2024/final_final/dints/prediction_testing/CTCA_Diseased_17/CTCA_Diseased_17.nii.gz\",\n",
    "    \"/cluster/work/felixzr/TDT4265_StarterCode_2024/final_final/dints/prediction_testing/CTCA_Diseased_18/CTCA_Diseased_18.nii.gz\",\n",
    "    \"/cluster/work/felixzr/TDT4265_StarterCode_2024/final_final/dints/prediction_testing/CTCA_Diseased_19/CTCA_Diseased_19.nii.gz\",\n",
    "    \"/cluster/work/felixzr/TDT4265_StarterCode_2024/final_final/dints/prediction_testing/CTCA_Diseased_20/CTCA_Diseased_20.nii.gz\",\n",
    "]\n",
    "# predictions_B_wPretrain = [\n",
    "#     \"/cluster/work/felixzr/TDT4265_StarterCode_2024/final/model_wPretrain_continued/dints_0/prediction_testing/CTCA_Normal_17/CTCA_Normal_17.nii.gz\",\n",
    "#     \"/cluster/work/felixzr/TDT4265_StarterCode_2024/final/model_wPretrain_continued/dints_0/prediction_testing/CTCA_Normal_18/CTCA_Normal_18.nii.gz\",\n",
    "#     \"/cluster/work/felixzr/TDT4265_StarterCode_2024/final/model_wPretrain_continued/dints_0/prediction_testing/CTCA_Normal_19/CTCA_Normal_19.nii.gz\",\n",
    "#     \"/cluster/work/felixzr/TDT4265_StarterCode_2024/final/model_wPretrain_continued/dints_0/prediction_testing/CTCA_Normal_20/CTCA_Normal_20.nii.gz\",\n",
    "\n",
    "#     \"/cluster/work/felixzr/TDT4265_StarterCode_2024/final/model_wPretrain_continued/dints_0/prediction_testing/CTCA_Diseased_17/CTCA_Diseased_17.nii.gz\",\n",
    "#     \"/cluster/work/felixzr/TDT4265_StarterCode_2024/final/model_wPretrain_continued/dints_0/prediction_testing/CTCA_Diseased_18/CTCA_Diseased_18.nii.gz\",\n",
    "#     \"/cluster/work/felixzr/TDT4265_StarterCode_2024/final/model_wPretrain_continued/dints_0/prediction_testing/CTCA_Diseased_19/CTCA_Diseased_19.nii.gz\",\n",
    "#     \"/cluster/work/felixzr/TDT4265_StarterCode_2024/final/model_wPretrain_continued/dints_0/prediction_testing/CTCA_Diseased_20/CTCA_Diseased_20.nii.gz\",\n",
    "# ]"
   ]
  },
  {
   "cell_type": "code",
   "execution_count": 8,
   "metadata": {},
   "outputs": [],
   "source": [
    "mean_dice_A = []\n",
    "mean_hd95_A = []\n",
    "\n",
    "mean_dice_A_wPretrain = []\n",
    "mean_hd95_A_wPretrain = []\n",
    "\n",
    "mean_dice_B = []\n",
    "mean_hd95_B = []\n",
    "\n",
    "mean_dice_B_wPretrain = []\n",
    "mean_hd95_B_wPretrain = []"
   ]
  },
  {
   "cell_type": "code",
   "execution_count": 9,
   "metadata": {},
   "outputs": [
    {
     "name": "stdout",
     "output_type": "stream",
     "text": [
      "0\n",
      "1\n",
      "2\n",
      "3\n",
      "4\n",
      "5\n",
      "6\n",
      "7\n"
     ]
    }
   ],
   "source": [
    "def return_pred(prediction_path):\n",
    "    prediction_nib = nib.load(prediction_path)\n",
    "    pred = np.array(prediction_nib.dataobj)\n",
    "    return pred\n",
    "\n",
    "for i in range(len(test_labels)):\n",
    "    print(i)\n",
    "\n",
    "    nrrd_data, _ = nrrd.read(test_labels[i])\n",
    "    gt = np.array(nrrd_data)\n",
    "    \n",
    "\n",
    "    # pred_A = return_pred(predictions_A[i])\n",
    "    # mean_dice_A.append( np.mean([dice_coefficient(pred_A[:, :, i], gt[:, :, i]) for i in range(pred_A.shape[2])]) )\n",
    "    # mean_hd95_A.append( hausdorff_metric(pred_A, gt) )\n",
    "\n",
    "    # pred_A_wPretrain = return_pred(predictions_A_wPretrain[i])\n",
    "    # mean_dice_A_wPretrain.append( np.mean([dice_coefficient(pred_A_wPretrain[:, :, i], gt[:, :, i]) for i in range(pred_A_wPretrain.shape[2])]) )\n",
    "    # mean_hd95_A_wPretrain.append( hausdorff_metric(pred_A_wPretrain, gt) )\n",
    "\n",
    "    pred_B = return_pred(predictions_B[i])\n",
    "    mean_dice_B.append( np.mean([dice_coefficient(pred_B[:, :, i], gt[:, :, i]) for i in range(pred_B.shape[2])]) )\n",
    "    mean_hd95_B.append( hausdorff_metric(pred_B, gt) )\n",
    "\n",
    "    # pred_B_wPretrain = return_pred(predictions_B_wPretrain[i])\n",
    "    # mean_dice_B_wPretrain.append( np.mean([dice_coefficient(pred_B_wPretrain[:, :, i], gt[:, :, i]) for i in range(pred_B_wPretrain.shape[2])]) )\n",
    "    # mean_hd95_B_wPretrain.append( hausdorff_metric(pred_B_wPretrain, gt) )"
   ]
  },
  {
   "cell_type": "code",
   "execution_count": 10,
   "metadata": {},
   "outputs": [
    {
     "name": "stdout",
     "output_type": "stream",
     "text": [
      "model | mean dice | mean hd95\n",
      "model A: nan, nan\n",
      "model A wPretrain: nan, nan\n",
      "model B: 0.537, 2.687\n",
      "model B wPretrain: nan, nan\n"
     ]
    },
    {
     "name": "stderr",
     "output_type": "stream",
     "text": [
      "/cluster/home/felixzr/.conda/envs/tdt4265/lib/python3.10/site-packages/numpy/core/fromnumeric.py:3504: RuntimeWarning: Mean of empty slice.\n",
      "  return _methods._mean(a, axis=axis, dtype=dtype,\n",
      "/cluster/home/felixzr/.conda/envs/tdt4265/lib/python3.10/site-packages/numpy/core/_methods.py:129: RuntimeWarning: invalid value encountered in scalar divide\n",
      "  ret = ret.dtype.type(ret / rcount)\n"
     ]
    }
   ],
   "source": [
    "# DICE: higher = better, best = 0.89 (ASOCA Challenge)\n",
    "# HD95: lower = better, best = 1.89 (ASOCA Challenge)\n",
    "\n",
    "print(f\"model | mean dice | mean hd95\")\n",
    "print(f\"model A: {round(np.mean(mean_dice_A), 3)}, {round(np.mean(mean_hd95_A), 3)}\")\n",
    "print(f\"model A wPretrain: {round(np.mean(mean_dice_A_wPretrain), 3)}, {round(np.mean(mean_hd95_A_wPretrain), 3)}\")\n",
    "print(f\"model B: {round(np.mean(mean_dice_B), 3)}, {round(np.mean(mean_hd95_B), 3)}\")\n",
    "print(f\"model B wPretrain: {round(np.mean(mean_dice_B_wPretrain), 3)}, {round(np.mean(mean_hd95_B_wPretrain), 3)}\")"
   ]
  },
  {
   "cell_type": "code",
   "execution_count": 11,
   "metadata": {},
   "outputs": [
    {
     "name": "stdout",
     "output_type": "stream",
     "text": [
      "best dice score:\n",
      "model A dice score =  nan\n",
      "best hd95:\n",
      "model A hd95 =  nan\n"
     ]
    }
   ],
   "source": [
    "models = [\"A\", \"A_wPretrain\", \"B\", \"B_wPretrain\"]\n",
    "\n",
    "print(\"best dice score:\")\n",
    "print(\"model\", models[np.argmax([np.mean(mean_dice_A), np.mean(mean_dice_A_wPretrain), np.mean(mean_dice_B), np.mean(mean_dice_B_wPretrain)])], \"dice score = \", round(np.max([np.mean(mean_dice_A), np.mean(mean_dice_A_wPretrain), np.mean(mean_dice_B), np.mean(mean_dice_B_wPretrain)]), 3))\n",
    "\n",
    "print(\"best hd95:\")\n",
    "print(\"model\", models[np.argmin([np.mean(mean_hd95_A), np.mean(mean_hd95_A_wPretrain), np.mean(mean_hd95_B), np.mean(mean_hd95_B_wPretrain)])], \"hd95 = \", round(np.min([np.mean(mean_hd95_A), np.mean(mean_hd95_A_wPretrain), np.mean(mean_hd95_B), np.mean(mean_hd95_B_wPretrain)]), 3))"
   ]
  },
  {
   "cell_type": "code",
   "execution_count": 12,
   "metadata": {},
   "outputs": [
    {
     "name": "stdout",
     "output_type": "stream",
     "text": [
      "[]\n",
      "[]\n",
      "[]\n",
      "[]\n",
      "[0.43688296307777197, 0.5466472467631145, 0.5203152944614723, 0.5120308047763963, 0.47233911074229257, 0.6337940465450378, 0.6611548795005059, 0.5104221423846715]\n",
      "[3.0, 2.6457513110645907, 2.6457513110645907, 2.6457513110645907, 2.8284271247461903, 2.449489742783178, 2.449489742783178, 2.8284271247461903]\n",
      "[]\n",
      "[]\n"
     ]
    }
   ],
   "source": [
    "print(mean_dice_A)\n",
    "print(mean_hd95_A)\n",
    "\n",
    "print(mean_dice_A_wPretrain)\n",
    "print(mean_hd95_A_wPretrain)\n",
    "\n",
    "print(mean_dice_B)\n",
    "print(mean_hd95_B)\n",
    "\n",
    "print(mean_dice_B_wPretrain)\n",
    "print(mean_hd95_B_wPretrain)\n"
   ]
  },
  {
   "cell_type": "code",
   "execution_count": null,
   "metadata": {},
   "outputs": [],
   "source": []
  }
 ],
 "metadata": {
  "kernelspec": {
   "display_name": "tdt4265",
   "language": "python",
   "name": "python3"
  },
  "language_info": {
   "codemirror_mode": {
    "name": "ipython",
    "version": 3
   },
   "file_extension": ".py",
   "mimetype": "text/x-python",
   "name": "python",
   "nbconvert_exporter": "python",
   "pygments_lexer": "ipython3",
   "version": "3.10.14"
  }
 },
 "nbformat": 4,
 "nbformat_minor": 2
}
