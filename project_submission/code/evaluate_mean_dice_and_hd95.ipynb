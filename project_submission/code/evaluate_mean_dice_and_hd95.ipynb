{
 "cells": [
  {
   "cell_type": "code",
   "execution_count": 1,
   "metadata": {},
   "outputs": [],
   "source": [
    "from scipy.spatial.distance import directed_hausdorff\n",
    "\n",
    "import numpy as np\n",
    "import matplotlib.pyplot as plt\n",
    "import nibabel as nib\n",
    "import nrrd"
   ]
  },
  {
   "cell_type": "code",
   "execution_count": 2,
   "metadata": {},
   "outputs": [],
   "source": [
    "## evaluate man HD95 (hausdorff distance) and dice score\n",
    "\n",
    "def dice_coefficient(prediction, labels):\n",
    "    # measures the overlap between the predicted segmentation and the ground truth\n",
    "    \"\"\"Dice score Dice (1945) is a commonly used segmentation metric measuring the overlap between the proposed segmentation and the ground truth\"\"\"\n",
    "    intersection = np.sum(prediction * labels)\n",
    "    union = np.sum(prediction) + np.sum(labels)\n",
    "    dice = (2.0 * intersection) / (union + 1e-6)\n",
    "    return dice\n",
    "\n",
    "\n",
    "def hausdorff_metric(prediction, labels):\n",
    "    # quantifies the maximum discrepancy between the predicted segmentation and the ground truth\n",
    "    # using scipy library\n",
    "    \"\"\"The Hausdorff distance is used to evaluate how close corresponding points between the submission and the ground truth are.\n",
    "    This provides a measure of accuracy of the segmentation at the boundary of the vessels. (from ASOCA Paper)\"\"\"\n",
    "    distances = []\n",
    "    for i in range(prediction.shape[2]):\n",
    "        d1 = directed_hausdorff(prediction[:, :, i], labels[:, :, i])[0]\n",
    "        d2 = directed_hausdorff(labels[:, :, i], prediction[:, :, i])[0]\n",
    "        distances.extend([d1, d2])\n",
    "    distances.sort()\n",
    "    percentile_95 = distances[int(0.95 * len(distances))]\n",
    "    return percentile_95"
   ]
  },
  {
   "cell_type": "code",
   "execution_count": 3,
   "metadata": {},
   "outputs": [],
   "source": [
    "test_labels = [\n",
    "    \"/cluster/work/felixzr/TDT4265_StarterCode_2024/data_flat/Annotation_Normal_17.nrrd\",\n",
    "    \"/cluster/work/felixzr/TDT4265_StarterCode_2024/data_flat/Annotation_Normal_18.nrrd\",\n",
    "    \"/cluster/work/felixzr/TDT4265_StarterCode_2024/data_flat/Annotation_Normal_19.nrrd\",\n",
    "    \"/cluster/work/felixzr/TDT4265_StarterCode_2024/data_flat/Annotation_Normal_20.nrrd\",\n",
    "\n",
    "    \"/cluster/work/felixzr/TDT4265_StarterCode_2024/data_flat/Annotation_Diseased_17.nrrd\",\n",
    "    \"/cluster/work/felixzr/TDT4265_StarterCode_2024/data_flat/Annotation_Diseased_18.nrrd\",\n",
    "    \"/cluster/work/felixzr/TDT4265_StarterCode_2024/data_flat/Annotation_Diseased_19.nrrd\",\n",
    "    \"/cluster/work/felixzr/TDT4265_StarterCode_2024/data_flat/Annotation_Diseased_20.nrrd\",\n",
    "]\n",
    "\n",
    "\n",
    "predictions_A = [\n",
    "    \"/cluster/work/felixzr/TDT4265_StarterCode_2024/final_final/segresnet/prediction_testing/CTCA_Normal_17.nii.gz\",\n",
    "    \"/cluster/work/felixzr/TDT4265_StarterCode_2024/final_final/segresnet/prediction_testing/CTCA_Normal_18.nii.gz\",\n",
    "    \"/cluster/work/felixzr/TDT4265_StarterCode_2024/final_final/segresnet/prediction_testing/CTCA_Normal_19.nii.gz\",\n",
    "    \"/cluster/work/felixzr/TDT4265_StarterCode_2024/final_final/segresnet/prediction_testing/CTCA_Normal_20.nii.gz\",\n",
    "\n",
    "    \"/cluster/work/felixzr/TDT4265_StarterCode_2024/final_final/segresnet/prediction_testing/CTCA_Diseased_17.nii.gz\",\n",
    "    \"/cluster/work/felixzr/TDT4265_StarterCode_2024/final_final/segresnet/prediction_testing/CTCA_Diseased_18.nii.gz\",\n",
    "    \"/cluster/work/felixzr/TDT4265_StarterCode_2024/final_final/segresnet/prediction_testing/CTCA_Diseased_19.nii.gz\",\n",
    "    \"/cluster/work/felixzr/TDT4265_StarterCode_2024/final_final/segresnet/prediction_testing/CTCA_Diseased_20.nii.gz\",\n",
    "]\n",
    "predictions_A_wPretrain = [\n",
    "    \"/cluster/work/felixzr/TDT4265_StarterCode_2024/final_final/with_pretrain/ASOCA/segresnet/prediction_testing/CTCA_Normal_17.nii.gz\",\n",
    "    \"/cluster/work/felixzr/TDT4265_StarterCode_2024/final_final/with_pretrain/ASOCA/segresnet/prediction_testing/CTCA_Normal_18.nii.gz\",\n",
    "    \"/cluster/work/felixzr/TDT4265_StarterCode_2024/final_final/with_pretrain/ASOCA/segresnet/prediction_testing/CTCA_Normal_19.nii.gz\",\n",
    "    \"/cluster/work/felixzr/TDT4265_StarterCode_2024/final_final/with_pretrain/ASOCA/segresnet/prediction_testing/CTCA_Normal_20.nii.gz\",\n",
    "\n",
    "    \"/cluster/work/felixzr/TDT4265_StarterCode_2024/final_final/with_pretrain/ASOCA/segresnet/prediction_testing/CTCA_Diseased_17.nii.gz\",\n",
    "    \"/cluster/work/felixzr/TDT4265_StarterCode_2024/final_final/with_pretrain/ASOCA/segresnet/prediction_testing/CTCA_Diseased_18.nii.gz\",\n",
    "    \"/cluster/work/felixzr/TDT4265_StarterCode_2024/final_final/with_pretrain/ASOCA/segresnet/prediction_testing/CTCA_Diseased_19.nii.gz\",\n",
    "    \"/cluster/work/felixzr/TDT4265_StarterCode_2024/final_final/with_pretrain/ASOCA/segresnet/prediction_testing/CTCA_Diseased_20.nii.gz\",\n",
    "]\n",
    "\n",
    "predictions_B = [\n",
    "    \"/cluster/work/felixzr/TDT4265_StarterCode_2024/final_final/dints/prediction_testing/CTCA_Normal_17/CTCA_Normal_17.nii.gz\",\n",
    "    \"/cluster/work/felixzr/TDT4265_StarterCode_2024/final_final/dints/prediction_testing/CTCA_Normal_18/CTCA_Normal_18.nii.gz\",\n",
    "    \"/cluster/work/felixzr/TDT4265_StarterCode_2024/final_final/dints/prediction_testing/CTCA_Normal_19/CTCA_Normal_19.nii.gz\",\n",
    "    \"/cluster/work/felixzr/TDT4265_StarterCode_2024/final_final/dints/prediction_testing/CTCA_Normal_20/CTCA_Normal_20.nii.gz\",\n",
    "\n",
    "    \"/cluster/work/felixzr/TDT4265_StarterCode_2024/final_final/dints/prediction_testing/CTCA_Diseased_17/CTCA_Diseased_17.nii.gz\",\n",
    "    \"/cluster/work/felixzr/TDT4265_StarterCode_2024/final_final/dints/prediction_testing/CTCA_Diseased_18/CTCA_Diseased_18.nii.gz\",\n",
    "    \"/cluster/work/felixzr/TDT4265_StarterCode_2024/final_final/dints/prediction_testing/CTCA_Diseased_19/CTCA_Diseased_19.nii.gz\",\n",
    "    \"/cluster/work/felixzr/TDT4265_StarterCode_2024/final_final/dints/prediction_testing/CTCA_Diseased_20/CTCA_Diseased_20.nii.gz\",\n",
    "]\n",
    "predictions_B_wPretrain = [\n",
    "    \"/cluster/work/felixzr/TDT4265_StarterCode_2024/final_final/with_pretrain/ASOCA/dints/prediction_testing/CTCA_Normal_17/CTCA_Normal_17.nii.gz\",\n",
    "    \"/cluster/work/felixzr/TDT4265_StarterCode_2024/final_final/with_pretrain/ASOCA/dints/prediction_testing/CTCA_Normal_18/CTCA_Normal_18.nii.gz\",\n",
    "    \"/cluster/work/felixzr/TDT4265_StarterCode_2024/final_final/with_pretrain/ASOCA/dints/prediction_testing/CTCA_Normal_19/CTCA_Normal_19.nii.gz\",\n",
    "    \"/cluster/work/felixzr/TDT4265_StarterCode_2024/final_final/with_pretrain/ASOCA/dints/prediction_testing/CTCA_Normal_20/CTCA_Normal_20.nii.gz\",\n",
    "\n",
    "    \"/cluster/work/felixzr/TDT4265_StarterCode_2024/final_final/with_pretrain/ASOCA/dints/prediction_testing/CTCA_Diseased_17/CTCA_Diseased_17.nii.gz\",\n",
    "    \"/cluster/work/felixzr/TDT4265_StarterCode_2024/final_final/with_pretrain/ASOCA/dints/prediction_testing/CTCA_Diseased_18/CTCA_Diseased_18.nii.gz\",\n",
    "    \"/cluster/work/felixzr/TDT4265_StarterCode_2024/final_final/with_pretrain/ASOCA/dints/prediction_testing/CTCA_Diseased_19/CTCA_Diseased_19.nii.gz\",\n",
    "    \"/cluster/work/felixzr/TDT4265_StarterCode_2024/final_final/with_pretrain/ASOCA/dints/prediction_testing/CTCA_Diseased_20/CTCA_Diseased_20.nii.gz\",\n",
    "]"
   ]
  },
  {
   "cell_type": "code",
   "execution_count": 4,
   "metadata": {},
   "outputs": [],
   "source": [
    "mean_dice_A = []\n",
    "mean_hd95_A = []\n",
    "\n",
    "mean_dice_A_wPretrain = []\n",
    "mean_hd95_A_wPretrain = []\n",
    "\n",
    "mean_dice_B = []\n",
    "mean_hd95_B = []\n",
    "\n",
    "mean_dice_B_wPretrain = []\n",
    "mean_hd95_B_wPretrain = []"
   ]
  },
  {
   "cell_type": "code",
   "execution_count": 5,
   "metadata": {},
   "outputs": [
    {
     "name": "stdout",
     "output_type": "stream",
     "text": [
      "0\n",
      "1\n",
      "2\n",
      "3\n",
      "4\n",
      "5\n",
      "6\n",
      "7\n"
     ]
    }
   ],
   "source": [
    "def return_pred(prediction_path):\n",
    "    prediction_nib = nib.load(prediction_path)\n",
    "    pred = np.array(prediction_nib.dataobj)\n",
    "    return pred\n",
    "\n",
    "for i in range(len(test_labels)):\n",
    "    print(i)\n",
    "\n",
    "    nrrd_data, _ = nrrd.read(test_labels[i])\n",
    "    gt = np.array(nrrd_data)\n",
    "    \n",
    "\n",
    "    pred_A = return_pred(predictions_A[i])\n",
    "    mean_dice_A.append( np.mean([dice_coefficient(pred_A[:, :, i], gt[:, :, i]) for i in range(pred_A.shape[2])]) )\n",
    "    mean_hd95_A.append( hausdorff_metric(pred_A, gt) )\n",
    "\n",
    "    pred_A_wPretrain = return_pred(predictions_A_wPretrain[i])\n",
    "    mean_dice_A_wPretrain.append( np.mean([dice_coefficient(pred_A_wPretrain[:, :, i], gt[:, :, i]) for i in range(pred_A_wPretrain.shape[2])]) )\n",
    "    mean_hd95_A_wPretrain.append( hausdorff_metric(pred_A_wPretrain, gt) )\n",
    "\n",
    "    pred_B = return_pred(predictions_B[i])\n",
    "    mean_dice_B.append( np.mean([dice_coefficient(pred_B[:, :, i], gt[:, :, i]) for i in range(pred_B.shape[2])]) )\n",
    "    mean_hd95_B.append( hausdorff_metric(pred_B, gt) )\n",
    "\n",
    "    pred_B_wPretrain = return_pred(predictions_B_wPretrain[i])\n",
    "    mean_dice_B_wPretrain.append( np.mean([dice_coefficient(pred_B_wPretrain[:, :, i], gt[:, :, i]) for i in range(pred_B_wPretrain.shape[2])]) )\n",
    "    mean_hd95_B_wPretrain.append( hausdorff_metric(pred_B_wPretrain, gt) )"
   ]
  },
  {
   "cell_type": "code",
   "execution_count": 6,
   "metadata": {},
   "outputs": [
    {
     "name": "stdout",
     "output_type": "stream",
     "text": [
      "model | mean dice | mean hd95\n",
      "model A: 0.516, 2.711\n",
      "model A wPretrain: 0.555, 2.338\n",
      "model B: 0.537, 2.687\n",
      "model B wPretrain: 0.508, 2.864\n"
     ]
    }
   ],
   "source": [
    "# DICE: higher = better, best = 0.89 (ASOCA Challenge)\n",
    "# HD95: lower = better, best = 1.89 (ASOCA Challenge)\n",
    "\n",
    "print(f\"model | mean dice | mean hd95\")\n",
    "print(f\"model A: {round(np.mean(mean_dice_A), 3)}, {round(np.mean(mean_hd95_A), 3)}\")\n",
    "print(f\"model A wPretrain: {round(np.mean(mean_dice_A_wPretrain), 3)}, {round(np.mean(mean_hd95_A_wPretrain), 3)}\")\n",
    "print(f\"model B: {round(np.mean(mean_dice_B), 3)}, {round(np.mean(mean_hd95_B), 3)}\")\n",
    "print(f\"model B wPretrain: {round(np.mean(mean_dice_B_wPretrain), 3)}, {round(np.mean(mean_hd95_B_wPretrain), 3)}\")"
   ]
  },
  {
   "cell_type": "code",
   "execution_count": 7,
   "metadata": {},
   "outputs": [
    {
     "name": "stdout",
     "output_type": "stream",
     "text": [
      "best dice score:\n",
      "model A_wPretrain dice score =  0.555\n",
      "best hd95:\n",
      "model A_wPretrain hd95 =  2.338\n"
     ]
    }
   ],
   "source": [
    "models = [\"A\", \"A_wPretrain\", \"B\", \"B_wPretrain\"]\n",
    "\n",
    "print(\"best dice score:\")\n",
    "print(\"model\", models[np.argmax([np.mean(mean_dice_A), np.mean(mean_dice_A_wPretrain), np.mean(mean_dice_B), np.mean(mean_dice_B_wPretrain)])], \"dice score = \", round(np.max([np.mean(mean_dice_A), np.mean(mean_dice_A_wPretrain), np.mean(mean_dice_B), np.mean(mean_dice_B_wPretrain)]), 3))\n",
    "\n",
    "print(\"best hd95:\")\n",
    "print(\"model\", models[np.argmin([np.mean(mean_hd95_A), np.mean(mean_hd95_A_wPretrain), np.mean(mean_hd95_B), np.mean(mean_hd95_B_wPretrain)])], \"hd95 = \", round(np.min([np.mean(mean_hd95_A), np.mean(mean_hd95_A_wPretrain), np.mean(mean_hd95_B), np.mean(mean_hd95_B_wPretrain)]), 3))"
   ]
  },
  {
   "cell_type": "code",
   "execution_count": 8,
   "metadata": {},
   "outputs": [
    {
     "name": "stdout",
     "output_type": "stream",
     "text": [
      "[0.4843978042822662, 0.46106006434830543, 0.48995648386856067, 0.5066099289756714, 0.42507687558081236, 0.6168477488797198, 0.6426272374434093, 0.5024046069392296]\n",
      "[2.6457513110645907, 2.8284271247461903, 2.8284271247461903, 2.6457513110645907, 3.0, 2.6457513110645907, 2.6457513110645907, 2.449489742783178]\n",
      "[0.49571739024076183, 0.5712715833305423, 0.5345669842947954, 0.5170924691878191, 0.4899399414244138, 0.6439943944541463, 0.673193577948924, 0.517169492618366]\n",
      "[2.23606797749979, 2.449489742783178, 2.449489742783178, 2.0, 2.6457513110645907, 2.23606797749979, 2.449489742783178, 2.23606797749979]\n",
      "[0.43688296307777197, 0.5466472467631145, 0.5203152944614723, 0.5120308047763963, 0.47233911074229257, 0.6337940465450378, 0.6611548795005059, 0.5104221423846715]\n",
      "[3.0, 2.6457513110645907, 2.6457513110645907, 2.6457513110645907, 2.8284271247461903, 2.449489742783178, 2.449489742783178, 2.8284271247461903]\n",
      "[0.4346430855612133, 0.4829344611412928, 0.512288557541475, 0.4752415455412743, 0.4396663608540052, 0.6249063361767424, 0.6218519066388872, 0.46852671522356765]\n",
      "[3.1622776601683795, 3.0, 3.0, 2.8284271247461903, 3.0, 2.449489742783178, 2.6457513110645907, 2.8284271247461903]\n"
     ]
    }
   ],
   "source": [
    "print(mean_dice_A)\n",
    "print(mean_hd95_A)\n",
    "\n",
    "print(mean_dice_A_wPretrain)\n",
    "print(mean_hd95_A_wPretrain)\n",
    "\n",
    "print(mean_dice_B)\n",
    "print(mean_hd95_B)\n",
    "\n",
    "print(mean_dice_B_wPretrain)\n",
    "print(mean_hd95_B_wPretrain)\n",
    "\n",
    "##! Discussion: Unlike in the asoca paper, performance on diseased samples are not much worse than on normal data"
   ]
  },
  {
   "cell_type": "code",
   "execution_count": null,
   "metadata": {},
   "outputs": [],
   "source": []
  },
  {
   "cell_type": "code",
   "execution_count": 9,
   "metadata": {},
   "outputs": [
    {
     "name": "stdout",
     "output_type": "stream",
     "text": [
      "0\n",
      "1\n",
      "2\n",
      "3\n",
      "4\n",
      "5\n",
      "6\n",
      "7\n"
     ]
    }
   ],
   "source": [
    "## compare with and without postproc:\n",
    "\n",
    "mean_dice_A_postproc, mean_hd95_A_postproc = [], []\n",
    "mean_dice_A_wPretrain_postproc, mean_hd95_A_wPretrain_postproc = [], []\n",
    "mean_dice_B_postproc, mean_hd95_B_postproc = [], []\n",
    "mean_dice_B_wPretrain_postproc, mean_hd95_B_wPretrain_postproc = [], []\n",
    "\n",
    "from skimage import measure\n",
    "def postproc(pred, threshold = 100):\n",
    "    # Connected Component Analysis\n",
    "    labeled_mask, num_components = measure.label(pred, connectivity=1, return_num=True)\n",
    "\n",
    "    # Filtering Small Components\n",
    "    for component_label in range(1, num_components + 1):\n",
    "        component_size = np.sum(labeled_mask == component_label)\n",
    "        if component_size < threshold:\n",
    "            labeled_mask[labeled_mask == component_label] = 0\n",
    "\n",
    "    labeled_mask[labeled_mask>0] = 1        ## set values to 0 and 1\n",
    "    return labeled_mask\n",
    "\n",
    "\n",
    "\n",
    "for i in range(len(test_labels)):\n",
    "    print(i)\n",
    "\n",
    "    nrrd_data, _ = nrrd.read(test_labels[i])\n",
    "    gt = np.array(nrrd_data)\n",
    "    \n",
    "\n",
    "    pred_A = return_pred(predictions_A[i])\n",
    "    pred_A = postproc(pred_A)\n",
    "    mean_dice_A_postproc.append( np.mean([dice_coefficient(pred_A[:, :, i], gt[:, :, i]) for i in range(pred_A.shape[2])]) )\n",
    "    mean_hd95_A_postproc.append( hausdorff_metric(pred_A, gt) )\n",
    "\n",
    "    pred_A_wPretrain = return_pred(predictions_A_wPretrain[i])\n",
    "    pred_A_wPretrain = postproc(pred_A_wPretrain)\n",
    "    mean_dice_A_wPretrain_postproc.append( np.mean([dice_coefficient(pred_A_wPretrain[:, :, i], gt[:, :, i]) for i in range(pred_A_wPretrain.shape[2])]) )\n",
    "    mean_hd95_A_wPretrain_postproc.append( hausdorff_metric(pred_A_wPretrain, gt) )\n",
    "\n",
    "    pred_B = return_pred(predictions_B[i])\n",
    "    pred_B = postproc(pred_B)\n",
    "    mean_dice_B_postproc.append( np.mean([dice_coefficient(pred_B[:, :, i], gt[:, :, i]) for i in range(pred_B.shape[2])]) )\n",
    "    mean_hd95_B_postproc.append( hausdorff_metric(pred_B, gt) )\n",
    "\n",
    "    pred_B_wPretrain = return_pred(predictions_B_wPretrain[i])\n",
    "    pred_B_wPretrain = postproc(pred_B_wPretrain)\n",
    "    mean_dice_B_wPretrain_postproc.append( np.mean([dice_coefficient(pred_B_wPretrain[:, :, i], gt[:, :, i]) for i in range(pred_B_wPretrain.shape[2])]) )\n",
    "    mean_hd95_B_wPretrain_postproc.append( hausdorff_metric(pred_B_wPretrain, gt) )"
   ]
  },
  {
   "cell_type": "code",
   "execution_count": 10,
   "metadata": {},
   "outputs": [
    {
     "name": "stdout",
     "output_type": "stream",
     "text": [
      "postproc diff%\n",
      "dice | hd95\n",
      "0.21715583512114112 0.0\n",
      "-0.07719867847638673 0.0\n",
      "0.2901904242605724 2.5613363036246284\n",
      "0.14842773173118218 0.7081915810081885\n"
     ]
    }
   ],
   "source": [
    "print(\"postproc diff%\")\n",
    "print(\"dice | hd95\")\n",
    "print((np.mean(mean_dice_A_postproc)/np.mean(mean_dice_A)-1)*100, (np.mean(mean_hd95_A_postproc)/np.mean(mean_hd95_A)-1)*100)\n",
    "print((np.mean(mean_dice_A_wPretrain_postproc)/np.mean(mean_dice_A_wPretrain)-1)*100, (np.mean(mean_hd95_A_wPretrain_postproc)/np.mean(mean_hd95_A_wPretrain)-1)*100)\n",
    "print((np.mean(mean_dice_B_postproc)/np.mean(mean_dice_B)-1)*100, (np.mean(mean_hd95_B_postproc)/np.mean(mean_hd95_B)-1)*100)\n",
    "print((np.mean(mean_dice_B_wPretrain_postproc)/np.mean(mean_dice_B_wPretrain)-1)*100, (np.mean(mean_hd95_B_wPretrain_postproc)/np.mean(mean_hd95_B_wPretrain)-1)*100)"
   ]
  },
  {
   "cell_type": "code",
   "execution_count": 11,
   "metadata": {},
   "outputs": [
    {
     "name": "stdout",
     "output_type": "stream",
     "text": [
      "dice | hd95\n",
      "0.517 2.711\n",
      "0.555 2.338\n",
      "0.538 2.755\n",
      "0.508 2.885\n"
     ]
    }
   ],
   "source": [
    "print(\"dice | hd95\")\n",
    "print(round(np.mean(mean_dice_A_postproc),3), round(np.mean(mean_hd95_A_postproc),3))\n",
    "print(round(np.mean(mean_dice_A_wPretrain_postproc),3), round(np.mean(mean_hd95_A_wPretrain_postproc),3))\n",
    "print(round(np.mean(mean_dice_B_postproc),3), round(np.mean(mean_hd95_B_postproc),3))\n",
    "print(round(np.mean(mean_dice_B_wPretrain_postproc),3), round(np.mean(mean_hd95_B_wPretrain_postproc),3))"
   ]
  },
  {
   "cell_type": "code",
   "execution_count": 12,
   "metadata": {},
   "outputs": [
    {
     "data": {
      "text/plain": [
       "array([ 0.69508947,  0.53650332,  1.66866388, -0.83903133, -0.87924619,\n",
       "        0.67253275, -0.59567849,  0.52100884])"
      ]
     },
     "execution_count": 12,
     "metadata": {},
     "output_type": "execute_result"
    }
   ],
   "source": [
    "(np.array(mean_dice_A_postproc) / np.array(mean_dice_A)-1)*100"
   ]
  },
  {
   "cell_type": "code",
   "execution_count": 13,
   "metadata": {},
   "outputs": [
    {
     "data": {
      "text/plain": [
       "array([0., 0., 0., 0., 0., 0., 0., 0.])"
      ]
     },
     "execution_count": 13,
     "metadata": {},
     "output_type": "execute_result"
    }
   ],
   "source": [
    "(np.array(mean_hd95_A_postproc) / np.array(mean_hd95_A)-1)*100"
   ]
  },
  {
   "cell_type": "code",
   "execution_count": null,
   "metadata": {},
   "outputs": [],
   "source": []
  },
  {
   "cell_type": "code",
   "execution_count": null,
   "metadata": {},
   "outputs": [],
   "source": []
  }
 ],
 "metadata": {
  "kernelspec": {
   "display_name": "tdt4265",
   "language": "python",
   "name": "python3"
  },
  "language_info": {
   "codemirror_mode": {
    "name": "ipython",
    "version": 3
   },
   "file_extension": ".py",
   "mimetype": "text/x-python",
   "name": "python",
   "nbconvert_exporter": "python",
   "pygments_lexer": "ipython3",
   "version": "3.10.14"
  }
 },
 "nbformat": 4,
 "nbformat_minor": 2
}
