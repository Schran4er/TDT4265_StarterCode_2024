{
 "cells": [
  {
   "cell_type": "code",
   "execution_count": 5,
   "metadata": {},
   "outputs": [
    {
     "data": {
      "text/html": [
       "Finishing last run (ID:ltiokvw6) before initializing another..."
      ],
      "text/plain": [
       "<IPython.core.display.HTML object>"
      ]
     },
     "metadata": {},
     "output_type": "display_data"
    },
    {
     "data": {
      "application/vnd.jupyter.widget-view+json": {
       "model_id": "26d4dc320c8d431895a6fb9a39bbaf45",
       "version_major": 2,
       "version_minor": 0
      },
      "text/plain": [
       "VBox(children=(Label(value='0.015 MB of 0.015 MB uploaded\\r'), FloatProgress(value=1.0, max=1.0)))"
      ]
     },
     "metadata": {},
     "output_type": "display_data"
    },
    {
     "data": {
      "text/html": [
       " View run <strong style=\"color:#cdcd00\">ASOCA_idun</strong> at: <a href='https://wandb.ai/tdt4265-group187/ASOCA/runs/ltiokvw6/workspace' target=\"_blank\">https://wandb.ai/tdt4265-group187/ASOCA/runs/ltiokvw6/workspace</a><br/>Synced 5 W&B file(s), 0 media file(s), 0 artifact file(s) and 0 other file(s)"
      ],
      "text/plain": [
       "<IPython.core.display.HTML object>"
      ]
     },
     "metadata": {},
     "output_type": "display_data"
    },
    {
     "data": {
      "text/html": [
       "Find logs at: <code>./wandb/run-20240328_154056-ltiokvw6/logs</code>"
      ],
      "text/plain": [
       "<IPython.core.display.HTML object>"
      ]
     },
     "metadata": {},
     "output_type": "display_data"
    },
    {
     "data": {
      "text/html": [
       "Successfully finished last run (ID:ltiokvw6). Initializing new run:<br/>"
      ],
      "text/plain": [
       "<IPython.core.display.HTML object>"
      ]
     },
     "metadata": {},
     "output_type": "display_data"
    },
    {
     "data": {
      "application/vnd.jupyter.widget-view+json": {
       "model_id": "efbb42f224134ca98e588587d577bf92",
       "version_major": 2,
       "version_minor": 0
      },
      "text/plain": [
       "VBox(children=(Label(value='Waiting for wandb.init()...\\r'), FloatProgress(value=0.011128240665938292, max=1.0…"
      ]
     },
     "metadata": {},
     "output_type": "display_data"
    },
    {
     "data": {
      "text/html": [
       "Tracking run with wandb version 0.16.5"
      ],
      "text/plain": [
       "<IPython.core.display.HTML object>"
      ]
     },
     "metadata": {},
     "output_type": "display_data"
    },
    {
     "data": {
      "text/html": [
       "Run data is saved locally in <code>/cluster/work/felixzr/TDT4265_StarterCode_2024/refactor_project/notebooks/wandb/run-20240328_154232-ltiokvw6</code>"
      ],
      "text/plain": [
       "<IPython.core.display.HTML object>"
      ]
     },
     "metadata": {},
     "output_type": "display_data"
    },
    {
     "data": {
      "text/html": [
       "Syncing run <strong><a href='https://wandb.ai/tdt4265-group187/ASOCA/runs/ltiokvw6/workspace' target=\"_blank\">ASOCA_idun</a></strong> to <a href='https://wandb.ai/tdt4265-group187/ASOCA' target=\"_blank\">Weights & Biases</a> (<a href='https://wandb.me/run' target=\"_blank\">docs</a>)<br/>"
      ],
      "text/plain": [
       "<IPython.core.display.HTML object>"
      ]
     },
     "metadata": {},
     "output_type": "display_data"
    },
    {
     "data": {
      "text/html": [
       " View project at <a href='https://wandb.ai/tdt4265-group187/ASOCA' target=\"_blank\">https://wandb.ai/tdt4265-group187/ASOCA</a>"
      ],
      "text/plain": [
       "<IPython.core.display.HTML object>"
      ]
     },
     "metadata": {},
     "output_type": "display_data"
    },
    {
     "data": {
      "text/html": [
       " View run at <a href='https://wandb.ai/tdt4265-group187/ASOCA/runs/ltiokvw6/workspace' target=\"_blank\">https://wandb.ai/tdt4265-group187/ASOCA/runs/ltiokvw6/workspace</a>"
      ],
      "text/plain": [
       "<IPython.core.display.HTML object>"
      ]
     },
     "metadata": {},
     "output_type": "display_data"
    },
    {
     "name": "stdout",
     "output_type": "stream",
     "text": [
      "Total Energy Consumption (kWh): 0.2783654835489061\n"
     ]
    },
    {
     "data": {
      "application/vnd.jupyter.widget-view+json": {
       "model_id": "13d47e39173e41d5b8f2dc71c5994332",
       "version_major": 2,
       "version_minor": 0
      },
      "text/plain": [
       "VBox(children=(Label(value='0.006 MB of 0.006 MB uploaded\\r'), FloatProgress(value=1.0, max=1.0)))"
      ]
     },
     "metadata": {},
     "output_type": "display_data"
    },
    {
     "data": {
      "text/html": [
       "<style>\n",
       "    table.wandb td:nth-child(1) { padding: 0 10px; text-align: left ; width: auto;} td:nth-child(2) {text-align: left ; width: 100%}\n",
       "    .wandb-row { display: flex; flex-direction: row; flex-wrap: wrap; justify-content: flex-start; width: 100% }\n",
       "    .wandb-col { display: flex; flex-direction: column; flex-basis: 100%; flex: 1; padding: 10px; }\n",
       "    </style>\n",
       "<div class=\"wandb-row\"><div class=\"wandb-col\"><h3>Run history:</h3><br/><table class=\"wandb\"><tr><td>gpu_power_usage</td><td>▁▁▁▁▁▁▁▁▁▁▁▁▁▁▁▁▁▁▁▁▁▁▁▁▁▁▁▁▁▁▁▁▁▁▁▁▁▁▁▁</td></tr></table><br/></div><div class=\"wandb-col\"><h3>Run summary:</h3><br/><table class=\"wandb\"><tr><td>gpu_power_usage</td><td>100</td></tr></table><br/></div></div>"
      ],
      "text/plain": [
       "<IPython.core.display.HTML object>"
      ]
     },
     "metadata": {},
     "output_type": "display_data"
    },
    {
     "data": {
      "text/html": [
       " View run <strong style=\"color:#cdcd00\">ASOCA_idun</strong> at: <a href='https://wandb.ai/tdt4265-group187/ASOCA/runs/ltiokvw6/workspace' target=\"_blank\">https://wandb.ai/tdt4265-group187/ASOCA/runs/ltiokvw6/workspace</a><br/>Synced 6 W&B file(s), 0 media file(s), 0 artifact file(s) and 0 other file(s)"
      ],
      "text/plain": [
       "<IPython.core.display.HTML object>"
      ]
     },
     "metadata": {},
     "output_type": "display_data"
    },
    {
     "data": {
      "text/html": [
       "Find logs at: <code>./wandb/run-20240328_154232-ltiokvw6/logs</code>"
      ],
      "text/plain": [
       "<IPython.core.display.HTML object>"
      ]
     },
     "metadata": {},
     "output_type": "display_data"
    }
   ],
   "source": [
    "import wandb\n",
    "import time\n",
    "\n",
    "# Initialize wandb run\n",
    "run = wandb.init(project='ASOCA', name='ASOCA_idun', id='ltiokvw6', resume=False)\n",
    "\n",
    "# Start time\n",
    "start_time = time.time()\n",
    "\n",
    "# Simulate training loop and logging GPU power usage\n",
    "total_power_usage = 0  # Initialize total power usage\n",
    "for _ in range(100):  # Simulate iterations\n",
    "    # Simulate GPU power usage (replace this with your actual power usage measurement)\n",
    "    power_usage = 100  # Watts\n",
    "    \n",
    "    # Log GPU power usage\n",
    "    wandb.log({\"gpu_power_usage\": power_usage})\n",
    "    \n",
    "    # Accumulate total power usage\n",
    "    total_power_usage += power_usage\n",
    "    \n",
    "    # Simulate training iteration\n",
    "    time.sleep(1)  # Simulate 1 second of training iteration\n",
    "\n",
    "# End time\n",
    "end_time = time.time()\n",
    "\n",
    "# Calculate total time in hours\n",
    "total_time_hours = (end_time - start_time) / 3600  # Convert runtime from seconds to hours\n",
    "\n",
    "# Calculate total energy consumption\n",
    "total_energy_kwh = (total_power_usage * total_time_hours) / 1000  # Convert to kWh\n",
    "\n",
    "print(\"Total Energy Consumption (kWh):\", total_energy_kwh)\n",
    "\n",
    "# Finish wandb run\n",
    "wandb.finish()"
   ]
  },
  {
   "cell_type": "code",
   "execution_count": null,
   "metadata": {},
   "outputs": [],
   "source": []
  },
  {
   "cell_type": "code",
   "execution_count": null,
   "metadata": {},
   "outputs": [],
   "source": []
  },
  {
   "cell_type": "code",
   "execution_count": 7,
   "metadata": {},
   "outputs": [],
   "source": [
    "import wandb\n",
    "\n",
    "api = wandb.Api()\n",
    "run = api.run(\"ASOCA/ltiokvw6\")"
   ]
  },
  {
   "cell_type": "code",
   "execution_count": 9,
   "metadata": {},
   "outputs": [
    {
     "data": {
      "text/html": [
       "<div>\n",
       "<style scoped>\n",
       "    .dataframe tbody tr th:only-of-type {\n",
       "        vertical-align: middle;\n",
       "    }\n",
       "\n",
       "    .dataframe tbody tr th {\n",
       "        vertical-align: top;\n",
       "    }\n",
       "\n",
       "    .dataframe thead th {\n",
       "        text-align: right;\n",
       "    }\n",
       "</style>\n",
       "<table border=\"1\" class=\"dataframe\">\n",
       "  <thead>\n",
       "    <tr style=\"text-align: right;\">\n",
       "      <th></th>\n",
       "      <th>val/loss_step</th>\n",
       "      <th>val/acc_epoch</th>\n",
       "      <th>lr-Adam</th>\n",
       "      <th>epoch</th>\n",
       "      <th>_runtime</th>\n",
       "      <th>train/acc_epoch</th>\n",
       "      <th>train/acc_step</th>\n",
       "      <th>trainer/global_step</th>\n",
       "      <th>_step</th>\n",
       "      <th>_timestamp</th>\n",
       "      <th>val/acc_step</th>\n",
       "      <th>val/loss_epoch</th>\n",
       "      <th>train/loss_step</th>\n",
       "      <th>train/loss_epoch</th>\n",
       "    </tr>\n",
       "  </thead>\n",
       "  <tbody>\n",
       "    <tr>\n",
       "      <th>0</th>\n",
       "      <td>NaN</td>\n",
       "      <td>NaN</td>\n",
       "      <td>0.010000</td>\n",
       "      <td>NaN</td>\n",
       "      <td>70.652866</td>\n",
       "      <td>NaN</td>\n",
       "      <td>NaN</td>\n",
       "      <td>3</td>\n",
       "      <td>0</td>\n",
       "      <td>1.711634e+09</td>\n",
       "      <td>NaN</td>\n",
       "      <td>NaN</td>\n",
       "      <td>NaN</td>\n",
       "      <td>NaN</td>\n",
       "    </tr>\n",
       "    <tr>\n",
       "      <th>1</th>\n",
       "      <td>NaN</td>\n",
       "      <td>NaN</td>\n",
       "      <td>NaN</td>\n",
       "      <td>0.0</td>\n",
       "      <td>72.144985</td>\n",
       "      <td>NaN</td>\n",
       "      <td>0.001406</td>\n",
       "      <td>3</td>\n",
       "      <td>1</td>\n",
       "      <td>1.711634e+09</td>\n",
       "      <td>NaN</td>\n",
       "      <td>NaN</td>\n",
       "      <td>0.998283</td>\n",
       "      <td>NaN</td>\n",
       "    </tr>\n",
       "    <tr>\n",
       "      <th>2</th>\n",
       "      <td>NaN</td>\n",
       "      <td>NaN</td>\n",
       "      <td>NaN</td>\n",
       "      <td>0.0</td>\n",
       "      <td>72.147400</td>\n",
       "      <td>0.001242</td>\n",
       "      <td>NaN</td>\n",
       "      <td>3</td>\n",
       "      <td>2</td>\n",
       "      <td>1.711634e+09</td>\n",
       "      <td>NaN</td>\n",
       "      <td>NaN</td>\n",
       "      <td>NaN</td>\n",
       "      <td>0.998709</td>\n",
       "    </tr>\n",
       "    <tr>\n",
       "      <th>3</th>\n",
       "      <td>NaN</td>\n",
       "      <td>NaN</td>\n",
       "      <td>0.010000</td>\n",
       "      <td>NaN</td>\n",
       "      <td>119.348335</td>\n",
       "      <td>NaN</td>\n",
       "      <td>NaN</td>\n",
       "      <td>7</td>\n",
       "      <td>3</td>\n",
       "      <td>1.711634e+09</td>\n",
       "      <td>NaN</td>\n",
       "      <td>NaN</td>\n",
       "      <td>NaN</td>\n",
       "      <td>NaN</td>\n",
       "    </tr>\n",
       "    <tr>\n",
       "      <th>4</th>\n",
       "      <td>NaN</td>\n",
       "      <td>NaN</td>\n",
       "      <td>NaN</td>\n",
       "      <td>1.0</td>\n",
       "      <td>120.843010</td>\n",
       "      <td>NaN</td>\n",
       "      <td>0.001850</td>\n",
       "      <td>7</td>\n",
       "      <td>4</td>\n",
       "      <td>1.711634e+09</td>\n",
       "      <td>NaN</td>\n",
       "      <td>NaN</td>\n",
       "      <td>0.997569</td>\n",
       "      <td>NaN</td>\n",
       "    </tr>\n",
       "    <tr>\n",
       "      <th>...</th>\n",
       "      <td>...</td>\n",
       "      <td>...</td>\n",
       "      <td>...</td>\n",
       "      <td>...</td>\n",
       "      <td>...</td>\n",
       "      <td>...</td>\n",
       "      <td>...</td>\n",
       "      <td>...</td>\n",
       "      <td>...</td>\n",
       "      <td>...</td>\n",
       "      <td>...</td>\n",
       "      <td>...</td>\n",
       "      <td>...</td>\n",
       "      <td>...</td>\n",
       "    </tr>\n",
       "    <tr>\n",
       "      <th>167</th>\n",
       "      <td>NaN</td>\n",
       "      <td>NaN</td>\n",
       "      <td>NaN</td>\n",
       "      <td>45.0</td>\n",
       "      <td>2817.192247</td>\n",
       "      <td>0.000000</td>\n",
       "      <td>NaN</td>\n",
       "      <td>183</td>\n",
       "      <td>167</td>\n",
       "      <td>1.711637e+09</td>\n",
       "      <td>NaN</td>\n",
       "      <td>NaN</td>\n",
       "      <td>NaN</td>\n",
       "      <td>1.000000</td>\n",
       "    </tr>\n",
       "    <tr>\n",
       "      <th>168</th>\n",
       "      <td>NaN</td>\n",
       "      <td>NaN</td>\n",
       "      <td>0.009793</td>\n",
       "      <td>NaN</td>\n",
       "      <td>2902.660452</td>\n",
       "      <td>NaN</td>\n",
       "      <td>NaN</td>\n",
       "      <td>187</td>\n",
       "      <td>168</td>\n",
       "      <td>1.711637e+09</td>\n",
       "      <td>NaN</td>\n",
       "      <td>NaN</td>\n",
       "      <td>NaN</td>\n",
       "      <td>NaN</td>\n",
       "    </tr>\n",
       "    <tr>\n",
       "      <th>169</th>\n",
       "      <td>NaN</td>\n",
       "      <td>NaN</td>\n",
       "      <td>NaN</td>\n",
       "      <td>46.0</td>\n",
       "      <td>2904.693630</td>\n",
       "      <td>NaN</td>\n",
       "      <td>0.000000</td>\n",
       "      <td>187</td>\n",
       "      <td>169</td>\n",
       "      <td>1.711637e+09</td>\n",
       "      <td>NaN</td>\n",
       "      <td>NaN</td>\n",
       "      <td>1.000000</td>\n",
       "      <td>NaN</td>\n",
       "    </tr>\n",
       "    <tr>\n",
       "      <th>170</th>\n",
       "      <td>NaN</td>\n",
       "      <td>NaN</td>\n",
       "      <td>NaN</td>\n",
       "      <td>46.0</td>\n",
       "      <td>2904.698649</td>\n",
       "      <td>0.000000</td>\n",
       "      <td>NaN</td>\n",
       "      <td>187</td>\n",
       "      <td>170</td>\n",
       "      <td>1.711637e+09</td>\n",
       "      <td>NaN</td>\n",
       "      <td>NaN</td>\n",
       "      <td>NaN</td>\n",
       "      <td>1.000000</td>\n",
       "    </tr>\n",
       "    <tr>\n",
       "      <th>171</th>\n",
       "      <td>NaN</td>\n",
       "      <td>NaN</td>\n",
       "      <td>0.009784</td>\n",
       "      <td>NaN</td>\n",
       "      <td>2989.427645</td>\n",
       "      <td>NaN</td>\n",
       "      <td>NaN</td>\n",
       "      <td>191</td>\n",
       "      <td>171</td>\n",
       "      <td>1.711637e+09</td>\n",
       "      <td>NaN</td>\n",
       "      <td>NaN</td>\n",
       "      <td>NaN</td>\n",
       "      <td>NaN</td>\n",
       "    </tr>\n",
       "  </tbody>\n",
       "</table>\n",
       "<p>172 rows × 14 columns</p>\n",
       "</div>"
      ],
      "text/plain": [
       "     val/loss_step  val/acc_epoch   lr-Adam  epoch     _runtime  \\\n",
       "0              NaN            NaN  0.010000    NaN    70.652866   \n",
       "1              NaN            NaN       NaN    0.0    72.144985   \n",
       "2              NaN            NaN       NaN    0.0    72.147400   \n",
       "3              NaN            NaN  0.010000    NaN   119.348335   \n",
       "4              NaN            NaN       NaN    1.0   120.843010   \n",
       "..             ...            ...       ...    ...          ...   \n",
       "167            NaN            NaN       NaN   45.0  2817.192247   \n",
       "168            NaN            NaN  0.009793    NaN  2902.660452   \n",
       "169            NaN            NaN       NaN   46.0  2904.693630   \n",
       "170            NaN            NaN       NaN   46.0  2904.698649   \n",
       "171            NaN            NaN  0.009784    NaN  2989.427645   \n",
       "\n",
       "     train/acc_epoch  train/acc_step  trainer/global_step  _step  \\\n",
       "0                NaN             NaN                    3      0   \n",
       "1                NaN        0.001406                    3      1   \n",
       "2           0.001242             NaN                    3      2   \n",
       "3                NaN             NaN                    7      3   \n",
       "4                NaN        0.001850                    7      4   \n",
       "..               ...             ...                  ...    ...   \n",
       "167         0.000000             NaN                  183    167   \n",
       "168              NaN             NaN                  187    168   \n",
       "169              NaN        0.000000                  187    169   \n",
       "170         0.000000             NaN                  187    170   \n",
       "171              NaN             NaN                  191    171   \n",
       "\n",
       "       _timestamp  val/acc_step  val/loss_epoch  train/loss_step  \\\n",
       "0    1.711634e+09           NaN             NaN              NaN   \n",
       "1    1.711634e+09           NaN             NaN         0.998283   \n",
       "2    1.711634e+09           NaN             NaN              NaN   \n",
       "3    1.711634e+09           NaN             NaN              NaN   \n",
       "4    1.711634e+09           NaN             NaN         0.997569   \n",
       "..            ...           ...             ...              ...   \n",
       "167  1.711637e+09           NaN             NaN              NaN   \n",
       "168  1.711637e+09           NaN             NaN              NaN   \n",
       "169  1.711637e+09           NaN             NaN         1.000000   \n",
       "170  1.711637e+09           NaN             NaN              NaN   \n",
       "171  1.711637e+09           NaN             NaN              NaN   \n",
       "\n",
       "     train/loss_epoch  \n",
       "0                 NaN  \n",
       "1                 NaN  \n",
       "2            0.998709  \n",
       "3                 NaN  \n",
       "4                 NaN  \n",
       "..                ...  \n",
       "167          1.000000  \n",
       "168               NaN  \n",
       "169               NaN  \n",
       "170          1.000000  \n",
       "171               NaN  \n",
       "\n",
       "[172 rows x 14 columns]"
      ]
     },
     "execution_count": 9,
     "metadata": {},
     "output_type": "execute_result"
    }
   ],
   "source": [
    "run.history()"
   ]
  },
  {
   "cell_type": "code",
   "execution_count": null,
   "metadata": {},
   "outputs": [],
   "source": []
  }
 ],
 "metadata": {
  "kernelspec": {
   "display_name": "Python 3",
   "language": "python",
   "name": "python3"
  },
  "language_info": {
   "codemirror_mode": {
    "name": "ipython",
    "version": 3
   },
   "file_extension": ".py",
   "mimetype": "text/x-python",
   "name": "python",
   "nbconvert_exporter": "python",
   "pygments_lexer": "ipython3",
   "version": "3.10.14"
  }
 },
 "nbformat": 4,
 "nbformat_minor": 2
}
